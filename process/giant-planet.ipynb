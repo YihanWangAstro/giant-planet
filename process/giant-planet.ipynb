{
 "cells": [
  {
   "cell_type": "code",
   "execution_count": 1,
   "metadata": {},
   "outputs": [
    {
     "name": "stdout",
     "output_type": "stream",
     "text": [
      "Populating the interactive namespace from numpy and matplotlib\n"
     ]
    }
   ],
   "source": [
    "%pylab inline\n",
    "%config InlineBackend.figure_format = 'retina'\n",
    "import pandas as pd\n",
    "import seaborn as sns\n",
    "import warnings\n",
    "warnings.filterwarnings(action=\"once\")\n",
    "from multiprocessing import  Pool\n",
    "\n",
    "sns.set_style(\"darkgrid\", {'xtick.top': True, 'ytick.right': True,'xtick.bottom': True, 'ytick.left': True,'grid.linestyle': '--','image.cmap': 'viridis','xtick.direction': 'in', 'ytick.direction': 'in'})\n",
    "\n",
    "# @working path\n",
    "FIG_PATH     = '../tex/figs/'\n",
    "WEB_FIG_PATH = '../tex/web-figs/'\n",
    "DATA_PATH    = '../code/'\n",
    "\n",
    "\n",
    "# @global settings\n",
    "\n",
    "FIG_DPI      = 800\n",
    "FIG_EXT      = '.pdf'\n",
    "\n",
    "# @global functions\n",
    "def savefig(handler,name, fig_ext = FIG_EXT):\n",
    "    if name != '':\n",
    "        handler.savefig(FIG_PATH + name + fig_ext, dpi = FIG_DPI,bbox_inches = 'tight', pad_inches = 0.1)\n",
    "        \n",
    "def parallelize_dataframe(n_cores, func, df, *args):\n",
    "    df_split = np.array_split(df, n_cores)\n",
    "    pool = Pool(n_cores)\n",
    "    df = pd.concat(pool.starmap(func, [(d,*args) for d in df_split]))\n",
    "    pool.close()\n",
    "    pool.join()\n",
    "    return df\n",
    "\n",
    "def parallelize(n_cores, func, splited_data, *args):\n",
    "    pool = Pool(n_cores)\n",
    "    df = pool.starmap(func, [(d,*args) for d in splited_data])\n",
    "    pool.close()\n",
    "    pool.join()\n",
    "    return df"
   ]
  },
  {
   "cell_type": "code",
   "execution_count": 2,
   "metadata": {},
   "outputs": [],
   "source": [
    "\n",
    "PC     = 648000/np.pi\n",
    "KPC    = 1000*PC \n",
    "AU     = 1\n",
    "MS     = 1\n",
    "YR     = 2 * np.pi\n",
    "Hubble_t = 13.4e9*YR\n",
    "V_UNIT = 2.9784651272402163E1\n",
    "KMS    = 1.0/V_UNIT\n",
    "lc     = 299792.458/V_UNIT\n",
    "DAY    = YR/365.25636042\n",
    "HR     = DAY/24\n",
    "G= 1"
   ]
  },
  {
   "cell_type": "code",
   "execution_count": 3,
   "metadata": {},
   "outputs": [],
   "source": [
    "def load_orbit(data,orbit_name):\n",
    "    name = ['m1', 'm2', 'e', 'p', 'i', 'Omega', 'omega', 'nv']\n",
    "    orbit={}\n",
    "    for key, i in zip(name, range(len(name))):\n",
    "        orbit.update({orbit_name+key : data[:,i]})\n",
    "    return orbit\n",
    "\n",
    "def load_incid_args(data):\n",
    "    return {'v_inf': data[:,0], 'b':data[:,1], 'w':data[:,2], 'ii':data[:,3],'iphi':data[:,4]}\n",
    "\n",
    "def load_post_scattered(data, obj_name):\n",
    "    dic = {'time':data[:,0]}\n",
    "    for name, idx in zip(obj_name, range(len(obj_name))):\n",
    "        offset = 10*idx\n",
    "        dic.update({'m_{' + name + '}': data[:,offset + 3],\n",
    "                    'r_{' + name + '}': data[:,offset + 4],\n",
    "                    'px_{' + name + '}': data[:,offset + 5],\n",
    "                    'py_{' + name + '}': data[:,offset + 7],\n",
    "                    'pz_{' + name + '}': data[:,offset + 7],\n",
    "                    'vx_{' + name + '}': data[:,offset + 8],\n",
    "                    'vy_{' + name + '}': data[:,offset + 9],\n",
    "                    'vz_{' + name + '}': data[:,offset + 10]\n",
    "                   })\n",
    "    return dic\n",
    "        \n",
    "def load_closest(data, obj_name):\n",
    "    dic ={}\n",
    "    for name, idx in zip(obj_name, range(len(obj_name))):\n",
    "        offset = 6*idx\n",
    "        dic.update({'closest:px_{' + name + '}': data[:,offset + 0],\n",
    "                    'closest:py_{' + name + '}': data[:,offset + 1],\n",
    "                    'closest:pz_{' + name + '}': data[:,offset + 2],\n",
    "                    'closest:vx_{' + name + '}': data[:,offset + 3],\n",
    "                    'closest:vy_{' + name + '}': data[:,offset + 4],\n",
    "                    'closest:vz_{' + name + '}': data[:,offset + 5]})\n",
    "    return dic\n",
    "        \n",
    "def load_data(fname, os, objname):\n",
    "    data = np.loadtxt(fname)\n",
    "    \n",
    "    dic = {}\n",
    "    dic.update(load_orbit(data[:,os['sj-orbit-s']:os['sj-orbit-e']],'sj-orbit-') )\n",
    "    dic.update(load_incid_args(data[:,os['incident-s']:os['incident-e']]))\n",
    "    \n",
    "    dic.update(load_post_scattered(data[:,os['post-s']:os['post-e']], objname))\n",
    "    \n",
    "    if 'closest-s' and 'closest-e' in os:\n",
    "        dic.update(load_closest(data[:,os['closest-s']:os['closest-e']], objname))\n",
    "    \n",
    "    if 'sn-orbit-s' and 'sn-orbit-e' in os:\n",
    "        dic.update(load_orbit(data[:,os['sn-orbit-s']:os['sn-orbit-e']],'sn-orbit-'))\n",
    "        \n",
    "    if 'ss-orbit-s' and 'ss-orbit-e' in os:\n",
    "        dic.update(load_orbit(data[:,os['ss-orbit-s']:os['ss-orbit-e']],'ss-orbit-'))\n",
    "        \n",
    "    return dic\n",
    "\n",
    "def get_a_e(m, drx, dry, drz, dvx, dvy, dvz):\n",
    "    r  = np.sqrt(drx**2 + dry**2 + drz**2)\n",
    "    v2 = dvx**2 + dvy**2 + dvz**2\n",
    "    v  = np.sqrt(v2)\n",
    "    \n",
    "    vrdot = drx*dvx + dry*dvy + drz*dvz\n",
    "    \n",
    "    vdfsq = (v2 - m / r)\n",
    "    ex = (vdfsq * drx - vrdot * dvx)\n",
    "    ey = (vdfsq * dry - vrdot * dvy) \n",
    "    ez = (vdfsq * drz - vrdot * dvz) \n",
    "    e  = np.sqrt(ex * ex + ey * ey + ez * ez) / m\n",
    "    a  = -m / (v2 - 2 * m/r)\n",
    "    return a, e\n",
    "\n",
    "\n",
    "def calc_pair_a_e(data, pairs):\n",
    "    for name_i, name_j in pairs:\n",
    "        mi = data['m_{' + name_i + '}']\n",
    "        mj = data['m_{' + name_j + '}']\n",
    "        \n",
    "        dpx = data['px_{' + name_i + '}'] - data['px_{' + name_j + '}']\n",
    "        dpy = data['py_{' + name_i + '}'] - data['py_{' + name_j + '}']\n",
    "        dpz = data['pz_{' + name_i + '}'] - data['pz_{' + name_j + '}']\n",
    "        \n",
    "        dvx = data['vx_{' + name_i + '}'] - data['vx_{' + name_j + '}']\n",
    "        dvy = data['vy_{' + name_i + '}'] - data['vy_{' + name_j + '}']\n",
    "        dvz = data['vz_{' + name_i + '}'] - data['vz_{' + name_j + '}']\n",
    "        \n",
    "\n",
    "        a, e = get_a_e(mi + mj, dpx, dpy, dpz, dvx, dvy, dvz)\n",
    "        \n",
    "        data['a_{' + name_i + ',' + name_j + '}'] = a\n",
    "        \n",
    "        data['e_{' + name_i + ',' + name_j + '}'] = e\n",
    "        \n",
    "def calc_tidal_t_scale(data, star_name, planet_name='j'):\n",
    "    mp = data['m_{'+planet_name+ '}']\n",
    "    rp = data['r_{'+planet_name+ '}']\n",
    "    \n",
    "    for name in star_name:\n",
    "        rs = data['r_{' + name + '}']\n",
    "        ms = data['m_{' + name + '}']\n",
    "        #s = 9.0/4/2e7*mp/ms*rs**5\n",
    "        p = 9.0/4/2.5e4*ms/mp*rp**5\n",
    "        a = data['a_{' + name + ',' + planet_name + '}']\n",
    "        e = data['e_{' + name + ',' + planet_name + '}']\n",
    "        n = np.sqrt( G*(ms+mp)/a**3)\n",
    "        tau_ap = 3/n*a**5/14/e**2/p\n",
    "        data['T_{' + name + ',' + planet_name + '}'] = tau_ap\n",
    "\n",
    "def check_collision(data, pairs):\n",
    "    dic ={}\n",
    "    for name_i, name_j in pairs:\n",
    "        ri = data['r_{' + name_i + '}']\n",
    "        rj = data['r_{' + name_j + '}']\n",
    "        \n",
    "        dpx = data['px_{' + name_i + '}'] - data['px_{' + name_j + '}']\n",
    "        dpy = data['py_{' + name_i + '}'] - data['py_{' + name_j + '}']\n",
    "        dpz = data['pz_{' + name_i + '}'] - data['pz_{' + name_j + '}']\n",
    "        \n",
    "        \n",
    "        coll = (dpx**2 + dpy**2 + dpz**2) <= (ri + rj)**2\n",
    "        \n",
    "        \n",
    "        data.loc[coll, 'star outcome'] = 'coll_{' + name_i + ',' + name_j + '}'\n",
    "        data.loc[coll, 'planet outcome']= 'coll_{' + name_i + ',' + name_j + '}'\n",
    "        #dic.update({'coll_{' + name_i + ',' + name_j + '}': coll})\n",
    "    #return dic\n",
    "\n",
    "def classify_star_outcome(data, star_pairs):\n",
    "    init_bound = np.ones(data['time'].shape, dtype=bool)\n",
    "    init_unbound =np.ones(data['time'].shape, dtype=bool)\n",
    "    disrupted = np.zeros(data['time'].shape, dtype=bool)\n",
    "    \n",
    "    for name_i, name_j in star_pairs:\n",
    "        if (name_i == 's1') and (name_j == 's2'):\n",
    "            a = data['a_{' + name_i + ',' + name_j + '}']\n",
    "            e = data['e_{' + name_i + ',' + name_j + '}']\n",
    "        \n",
    "            bound = (a > 0) & (0 <=e) & (e < 1)\n",
    "            unbound = (e >= 1) & (a <= 0) \n",
    "            init_bound = init_bound & bound\n",
    "            init_unbound=init_unbound&unbound\n",
    "            disrupted = np.ones(data['time'].shape, dtype=bool)\n",
    "    \n",
    "    \n",
    "    flyby = np.ones(data['time'].shape, dtype=bool)\n",
    "    \n",
    "    bi_formation ={}\n",
    "    for name_i, name_j in star_pairs:\n",
    "        if (name_i != 's1') or (name_j != 's2'):\n",
    "            a = data['a_{' + name_i + ',' + name_j + '}']\n",
    "            e = data['e_{' + name_i + ',' + name_j + '}']\n",
    "        \n",
    "            bound = (a > 0) & (0 <=e) & (e < 1)\n",
    "            unbound = (e >= 1) & (a <= 0) \n",
    "            \n",
    "            bi_formation.update({'reunion_{' + name_i + ',' + name_j + '}': bound & init_unbound})\n",
    "        \n",
    "            flyby = flyby & unbound & init_bound\n",
    "            \n",
    "            disrupted = disrupted & unbound & init_unbound\n",
    "        \n",
    "    reunion = np.zeros(data['time'].shape, dtype=bool)\n",
    "    for key, r in bi_formation.items():\n",
    "        reunion = reunion | r\n",
    "        \n",
    "    data.loc[reunion, 'star outcome'] = 'reunion'\n",
    "    data.loc[flyby,'star outcome'] = 'flyby'\n",
    "    data.loc[disrupted, 'star outcome'] = 'disrupted'\n",
    "    \n",
    "    #dic = {'reunion':reunion, 'flyby' : flyby, 'disrupted': disrupted}\n",
    "    \n",
    "    #dic.update(bi_formation)\n",
    "            \n",
    "    #return dic\n",
    "\n",
    "def classify_planet_outcome(data, star_names, planet_name='j', a_final=0.1*AU):\n",
    "    binary = []\n",
    "    for star_name in star_names:\n",
    "        a = data['a_{' + star_name + ',' + planet_name + '}']\n",
    "        e = data['e_{' + star_name + ',' + planet_name + '}']\n",
    "        tau_ap = data['T_{' + star_name + ',' + planet_name + '}']\n",
    "        \n",
    "        bound = (a > 0) & (0 <=e) & (e < 1)\n",
    "        unbound = (e >= 1) & (a <= 0) \n",
    "        hot_jupiter_candi = (a*(1-e*e) < a_final) & (tau_ap < Hubble_t) \n",
    "        binary.append((star_name, bound, unbound, hot_jupiter_candi))\n",
    "        \n",
    "    dic={}\n",
    "    for star_name1, bound1, unbound1, hj1 in binary:\n",
    "        bound = bound1\n",
    "        hot_jupiter = hj1\n",
    "        for star_name2, bound2, unbound2, hj2 in binary:\n",
    "            if(star_name1 != star_name2):\n",
    "                bound = bound & unbound2\n",
    "                hot_jupiter = hot_jupiter & unbound2\n",
    "                \n",
    "        data.loc[bound, 'planet outcome'] = 'stay_{' + star_name1 + ',' + planet_name + '}'\n",
    "        data.loc[hot_jupiter, 'planet outcome']= 'HJ_{' + star_name1 + ',' + planet_name + '}' \n",
    "    \n",
    "        #dic.update({'stay_{' + star_name1 + ',' + planet_name + '}' : bound, 'HJ_{' + star_name1 + ',' + planet_name + '}' : hot_jupiter})\n",
    "        \n",
    "    ejection = np.ones(data['time'].shape, dtype=bool)\n",
    "    for star_name, bound, unbound, hj in binary:\n",
    "        ejection = ejection & unbound\n",
    "        \n",
    "        \n",
    "    data.loc[ejection, 'planet outcome'] = 'ejection_{'+planet_name+'}'\n",
    "    \n",
    "    #dic.update({'ejection_{'+planet_name+'}':ejection})\n",
    "\n",
    "    #return dic\n",
    "def analy_outcomes(data, objname, pairs):\n",
    "    star_name = [ name for name in objname if name.startswith('s')]\n",
    "    planet_name = [ name for name in objname if not name.startswith('s')]\n",
    "    star_pairs = [(s1, s2) for s1, s2 in pairs if s1.startswith('s') and s2.startswith('s')]\n",
    "    \n",
    "        #print(star_name, planet_name, star_pairs)\n",
    "    \n",
    "    data['star outcome']= np.zeros(data['time'].shape,dtype = object)\n",
    "    data['planet outcome']= np.zeros(data['time'].shape,dtype = object)\n",
    "    calc_pair_a_e(data, pairs)\n",
    "    \n",
    "    classify_star_outcome(data, star_pairs)\n",
    "   \n",
    "    for p_name in planet_name:\n",
    "        calc_tidal_t_scale(data, star_name, p_name)\n",
    "        classify_planet_outcome(data, star_name, p_name)\n",
    "        \n",
    "        check_collision(data, pairs)\n",
    "        \n",
    "    return data\n",
    "    \n",
    "def post_process(fname, os, objname, pairs):\n",
    "    data = pd.DataFrame(load_data(fname, os, objname))\n",
    "    \n",
    "    return analy_outcomes(data, objname, pairs)\n",
    "    #return parallelize_dataframe(12, analy_outcomes, data, objname, pairs)"
   ]
  },
  {
   "cell_type": "code",
   "execution_count": 7,
   "metadata": {},
   "outputs": [],
   "source": [
    "prefix = '/home/yihan/Projects/giant-planet/code/search/'\n",
    "\n",
    "mono_single_idx = {'sj-orbit-s' : 1, 'sj-orbit-e':9, 'incident-s':9, 'incident-e':14, 'post-s':14, 'post-e':45}\n",
    "\n",
    "names = ['s','j', 's1']\n",
    "\n",
    "pairs = [('s','j'), ('s','s1'), ('s1','j')]\n",
    "    \n",
    "df = pd.DataFrame(post_process(prefix+'first-run.txt', mono_single_idx, names, pairs))\n"
   ]
  },
  {
   "cell_type": "code",
   "execution_count": 10,
   "metadata": {},
   "outputs": [],
   "source": [
    "\n",
    "sns.distplot(df['m_{s1}'],hue='planet outcome')"
   ]
  },
  {
   "cell_type": "code",
   "execution_count": 12,
   "metadata": {},
   "outputs": [],
   "source": [
    "capture = df.loc[(df['planet outcome'] == 'stay_{s1,j}') & (df['star outcome'] == 'flyby') ]"
   ]
  },
  {
   "cell_type": "code",
   "execution_count": 37,
   "metadata": {},
   "outputs": [],
   "source": [
    "captured = (df['planet outcome'] == 'stay_{s1,j}') & (df['star outcome'] == 'flyby')\n",
    "tot_num, bins = np.histogram(df['m_{s1}'],30)\n",
    "cap_num, bins = np.histogram(df['m_{s1}'][captured],bins=bins)"
   ]
  },
  {
   "cell_type": "code",
   "execution_count": 52,
   "metadata": {},
   "outputs": [],
   "source": [
    "m_dwarf = 0.5*(bins[0:-1] + bins[1::])\n",
    "cap_rate = cap_num/tot_num \n",
    "\n",
    "cap_data = pd.DataFrame({'$M$ [$M_\\odot$]': m_dwarf, 'capture fraction [%]':cap_rate*100})\n",
    "\n",
    "ss = sns.relplot(data=cap_data, x='$M$ [$M_\\odot$]',y='capture fraction [%]', kind='line')\n",
    "\n",
    "\n",
    "savefig(plt,'capture rate','.png')"
   ]
  },
  {
   "cell_type": "code",
   "execution_count": 68,
   "metadata": {},
   "outputs": [],
   "source": [
    "loga = np.log10(df['a_{s1,j}'][captured])\n",
    "x_min, x_max = loga.min(), loga.max() \n",
    "h=sns.jointplot(loga, df['e_{s1,j}'][captured],kind='hex',ylim=(0,1),xlim=(x_min, x_max),height=5)\n",
    "h.ax_joint.set_xlabel('$\\log_{10}(a_{s_1,j})$')\n",
    "h.ax_joint.set_ylabel('$e_{s_1,j}$')\n",
    "savefig(plt,'a_e','.png')"
   ]
  },
  {
   "cell_type": "code",
   "execution_count": 40,
   "metadata": {},
   "outputs": [
    {
     "name": "stderr",
     "output_type": "stream",
     "text": [
      "<>:113: DeprecationWarning: invalid escape sequence \\o\n",
      "<>:113: DeprecationWarning: invalid escape sequence \\s\n",
      "<>:115: DeprecationWarning: invalid escape sequence \\D\n"
     ]
    }
   ],
   "source": [
    "def critical_v(m1, m2, m3, a):\n",
    "    m_in = m1 + m2\n",
    "    mu_out = m_in * m3/(m_in + m3)\n",
    "    \n",
    "    return np.sqrt(G/mu_out*m1*m2/a)\n",
    "\n",
    "def calc_cross_section(filename, idx, column_name, pairs):\n",
    "    df = pd.DataFrame(post_process(filename, idx, names, pairs))\n",
    "    b_max = df['b'].max()\n",
    "    planet_out = df['planet outcome']\n",
    "    \n",
    "    star_out = df['star outcome']\n",
    "    \n",
    "    ncap =((planet_out == 'stay_{s1,j}')&(star_out == 'flyby')).sum()\n",
    "    \n",
    "    ntot = len(planet_out)\n",
    "    \n",
    "    sigma = np.pi * b_max**2 * ncap/ntot\n",
    "    \n",
    "    m_dwarf = df['m_{s1}'][0]\n",
    "    \n",
    "    return m_dwarf, sigma, b_max, ncap, ntot, df['v_inf'].mean()/KMS\n",
    "\n",
    "def calc_HJ_cross_section(filename, idx, column_name, pairs):\n",
    "    df = pd.DataFrame(post_process(filename, idx, names, pairs))\n",
    "    b_max = df['b'].max()\n",
    "    planet_out = df['planet outcome']\n",
    "    \n",
    "    star_out = df['star outcome']\n",
    "    \n",
    "    ncap =(planet_out == 'HJ_{s,j}').sum()\n",
    "    \n",
    "    ntot = len(planet_out)\n",
    "    \n",
    "    m_dwarf = df['m_{s1}'][0]\n",
    "    \n",
    "    if 'm_{s2}' in df.columns:\n",
    "        m_dwarf += df['m_{s2}'][0]\n",
    "        \n",
    "    sigma = np.pi * b_max**2 * ncap/ntot\n",
    "    \n",
    "    return m_dwarf, sigma, b_max, ncap, ntot, df['v_inf'].mean()/KMS\n",
    "\n",
    "def calc_cap_HJ_cross_section(filename, idx, column_name, pairs):\n",
    "    df = pd.DataFrame(post_process(filename, idx, names, pairs))\n",
    "    b_max = df['b'].max()\n",
    "    planet_out = df['planet outcome']\n",
    "    \n",
    "    star_out = df['star outcome']\n",
    "    \n",
    "    ncap =(planet_out == 'HJ_{s1,j}').sum()\n",
    "    \n",
    "    ntot = len(planet_out)\n",
    "    \n",
    "    m_dwarf = df['m_{s1}'][0]\n",
    "    \n",
    "    if 'm_{s2}' in df.columns:\n",
    "        m_dwarf += df['m_{s2}'][0]\n",
    "        ncap += (planet_out == 'HJ_{s2,j}').sum()\n",
    "        \n",
    "    sigma = np.pi * b_max**2 * ncap/ntot\n",
    "    \n",
    "    return m_dwarf, sigma, b_max, ncap, ntot, df['v_inf'].mean()/KMS\n",
    "\n",
    "def calc_ejection_cross_section(filename, idx, column_name, pairs):\n",
    "    df = pd.DataFrame(post_process(filename, idx, names, pairs))\n",
    "    b_max = df['b'].max()\n",
    "    planet_out = df['planet outcome']\n",
    "    \n",
    "    star_out = df['star outcome']\n",
    "    \n",
    "    ncap =(planet_out == 'ejection_{j}').sum()\n",
    "    \n",
    "    ntot = len(planet_out)\n",
    "    \n",
    "    sigma = np.pi * b_max**2 * ncap/ntot\n",
    "    \n",
    "    m_dwarf = df['m_{s1}'][0]\n",
    "    \n",
    "    if 'm_{s2}' in df.columns:\n",
    "        m_dwarf += df['m_{s2}'][0]\n",
    "    \n",
    "    return m_dwarf, sigma, b_max, ncap, ntot, df['v_inf'].mean()/KMS\n",
    "\n",
    "def calc_binary_cross_section(filename, idx, column_name, pairs):\n",
    "    df = pd.DataFrame(post_process(filename, idx, names, pairs))\n",
    "    b_max = df['b'].max()\n",
    "    planet_out = df['planet outcome']\n",
    "    \n",
    "    star_out = df['star outcome']\n",
    "    \n",
    "    ncap =(((planet_out == 'stay_{s1,j}') | (planet_out == 'stay_{s2,j}') )&(star_out == 'flyby')).sum()\n",
    "    \n",
    "    ntot = len(planet_out)\n",
    "    \n",
    "    sigma = np.pi * b_max**2 * ncap/ntot\n",
    "    \n",
    "    m_dwarf = df['m_{s1}'][0] + df['m_{s2}'][0]\n",
    "    \n",
    "    return m_dwarf, sigma, b_max, ncap, ntot, df['v_inf'].mean()/KMS\n",
    "\n",
    "def get_dataframe(callback, prefix, idx, names, pairs, m_num):\n",
    "    fnames = [prefix + 'Maxwellian_' + str(i) + '.txt' for i in range(m_num)]\n",
    "    \n",
    "    res = parallelize(12,callback, fnames, idx, names, pairs)\n",
    "    \n",
    "    M, SIGMA, B, Ncap, Ntot, V = zip(*res)\n",
    "    \n",
    "    aj=1*AU\n",
    "\n",
    "    sigma_unit = np.pi*aj*aj\n",
    "\n",
    "    cross = pd.DataFrame({'$m_{dwarf}[M_\\odot]$': M, '$V_{inf} [km/s]$':V, '$b_{max} [au]$':B, '$N_{cap}$':Ncap, '$N_{tot}$':Ntot, '$\\sigma[\\pi a_{J}^2]$':np.array(SIGMA)/sigma_unit})\n",
    "\n",
    "    cross['$\\Delta\\sigma [\\pi a_{J}^2]$'] = cross['$b_{max} [au]$']**2*np.sqrt(cross['$N_{cap}$'])/cross['$N_{tot}$']*np.pi/sigma_unit\n",
    "\n",
    "    cross['$v_{crit} [km/s]$'] = critical_v(1, 0.000954, cross['$m_{dwarf}[M_\\odot]$'], 1)/KMS\n",
    "    \n",
    "    return cross"
   ]
  },
  {
   "cell_type": "code",
   "execution_count": 41,
   "metadata": {},
   "outputs": [
    {
     "name": "stderr",
     "output_type": "stream",
     "text": [
      "/home/yihan/anaconda3/lib/python3.6/site-packages/ipykernel_launcher.py:105: RuntimeWarning: invalid value encountered in sqrt\n",
      "/home/yihan/anaconda3/lib/python3.6/site-packages/ipykernel_launcher.py:105: RuntimeWarning: invalid value encountered in sqrt\n",
      "/home/yihan/anaconda3/lib/python3.6/site-packages/ipykernel_launcher.py:105: RuntimeWarning: invalid value encountered in sqrt\n",
      "/home/yihan/anaconda3/lib/python3.6/site-packages/ipykernel_launcher.py:105: RuntimeWarning: invalid value encountered in sqrt\n",
      "/home/yihan/anaconda3/lib/python3.6/site-packages/ipykernel_launcher.py:105: RuntimeWarning: invalid value encountered in sqrt\n",
      "/home/yihan/anaconda3/lib/python3.6/site-packages/ipykernel_launcher.py:105: RuntimeWarning: invalid value encountered in sqrt\n",
      "/home/yihan/anaconda3/lib/python3.6/site-packages/ipykernel_launcher.py:105: RuntimeWarning: invalid value encountered in sqrt\n",
      "/home/yihan/anaconda3/lib/python3.6/site-packages/ipykernel_launcher.py:105: RuntimeWarning: invalid value encountered in sqrt\n",
      "/home/yihan/anaconda3/lib/python3.6/site-packages/ipykernel_launcher.py:105: RuntimeWarning: invalid value encountered in sqrt\n",
      "/home/yihan/anaconda3/lib/python3.6/site-packages/ipykernel_launcher.py:105: RuntimeWarning: invalid value encountered in sqrt\n",
      "/home/yihan/anaconda3/lib/python3.6/site-packages/ipykernel_launcher.py:105: RuntimeWarning: invalid value encountered in sqrt\n",
      "/home/yihan/anaconda3/lib/python3.6/site-packages/ipykernel_launcher.py:105: RuntimeWarning: invalid value encountered in sqrt\n"
     ]
    }
   ],
   "source": [
    "prefix = '../code/single/'\n",
    "\n",
    "mono_single_idx = {'sj-orbit-s' : 1, 'sj-orbit-e':9, 'incident-s':9, 'incident-e':14, 'post-s':14, 'post-e':45}\n",
    "\n",
    "names = ['s','j', 's1']\n",
    "\n",
    "pairs = [('s','j'), ('s','s1'), ('s1','j')]\n",
    "\n",
    "cs = get_dataframe(calc_HJ_cross_section, prefix, mono_single_idx, names, pairs, 40)\n",
    "\n",
    "#cross.to_csv(prefix+\"data.csv\")"
   ]
  },
  {
   "cell_type": "code",
   "execution_count": 42,
   "metadata": {},
   "outputs": [
    {
     "name": "stderr",
     "output_type": "stream",
     "text": [
      "/home/yihan/anaconda3/lib/python3.6/site-packages/ipykernel_launcher.py:105: RuntimeWarning: invalid value encountered in sqrt\n",
      "/home/yihan/anaconda3/lib/python3.6/site-packages/ipykernel_launcher.py:105: RuntimeWarning: invalid value encountered in sqrt\n",
      "/home/yihan/anaconda3/lib/python3.6/site-packages/ipykernel_launcher.py:105: RuntimeWarning: invalid value encountered in sqrt\n",
      "/home/yihan/anaconda3/lib/python3.6/site-packages/ipykernel_launcher.py:105: RuntimeWarning: invalid value encountered in sqrt\n",
      "/home/yihan/anaconda3/lib/python3.6/site-packages/ipykernel_launcher.py:105: RuntimeWarning: invalid value encountered in sqrt\n",
      "/home/yihan/anaconda3/lib/python3.6/site-packages/ipykernel_launcher.py:105: RuntimeWarning: invalid value encountered in sqrt\n",
      "/home/yihan/anaconda3/lib/python3.6/site-packages/ipykernel_launcher.py:105: RuntimeWarning: invalid value encountered in sqrt\n",
      "/home/yihan/anaconda3/lib/python3.6/site-packages/ipykernel_launcher.py:105: RuntimeWarning: invalid value encountered in sqrt\n",
      "/home/yihan/anaconda3/lib/python3.6/site-packages/ipykernel_launcher.py:105: RuntimeWarning: invalid value encountered in sqrt\n",
      "/home/yihan/anaconda3/lib/python3.6/site-packages/ipykernel_launcher.py:105: RuntimeWarning: invalid value encountered in sqrt\n",
      "/home/yihan/anaconda3/lib/python3.6/site-packages/ipykernel_launcher.py:105: RuntimeWarning: invalid value encountered in sqrt\n",
      "/home/yihan/anaconda3/lib/python3.6/site-packages/ipykernel_launcher.py:105: RuntimeWarning: invalid value encountered in sqrt\n"
     ]
    }
   ],
   "source": [
    "prefix = '../code/binary-1/'\n",
    "\n",
    "binary_idx = {'sj-orbit-s' : 1, 'sj-orbit-e':9, 'incident-s':9, 'incident-e':14, 'post-s':14, 'post-e':56}\n",
    "\n",
    "names = ['s','j', 's1', 's2']\n",
    "\n",
    "pairs = [('s','j'), ('s','s1'), ('s1','j'), ('s','s2'), ('s2','j'), ('s1','s2')]\n",
    "\n",
    "cs_b_1 = get_dataframe(calc_HJ_cross_section, prefix, binary_idx, names, pairs, 40)\n",
    "\n",
    "#cross_binary_1.to_csv(prefix+\"data.csv\")"
   ]
  },
  {
   "cell_type": "code",
   "execution_count": 43,
   "metadata": {},
   "outputs": [
    {
     "name": "stderr",
     "output_type": "stream",
     "text": [
      "/home/yihan/anaconda3/lib/python3.6/site-packages/ipykernel_launcher.py:105: RuntimeWarning: invalid value encountered in sqrt\n",
      "/home/yihan/anaconda3/lib/python3.6/site-packages/ipykernel_launcher.py:105: RuntimeWarning: invalid value encountered in sqrt\n",
      "/home/yihan/anaconda3/lib/python3.6/site-packages/ipykernel_launcher.py:105: RuntimeWarning: invalid value encountered in sqrt\n",
      "/home/yihan/anaconda3/lib/python3.6/site-packages/ipykernel_launcher.py:105: RuntimeWarning: invalid value encountered in sqrt\n",
      "/home/yihan/anaconda3/lib/python3.6/site-packages/ipykernel_launcher.py:105: RuntimeWarning: invalid value encountered in sqrt\n",
      "/home/yihan/anaconda3/lib/python3.6/site-packages/ipykernel_launcher.py:105: RuntimeWarning: invalid value encountered in sqrt\n",
      "/home/yihan/anaconda3/lib/python3.6/site-packages/ipykernel_launcher.py:105: RuntimeWarning: invalid value encountered in sqrt\n",
      "/home/yihan/anaconda3/lib/python3.6/site-packages/ipykernel_launcher.py:105: RuntimeWarning: invalid value encountered in sqrt\n",
      "/home/yihan/anaconda3/lib/python3.6/site-packages/ipykernel_launcher.py:105: RuntimeWarning: invalid value encountered in sqrt\n",
      "/home/yihan/anaconda3/lib/python3.6/site-packages/ipykernel_launcher.py:105: RuntimeWarning: invalid value encountered in sqrt\n",
      "/home/yihan/anaconda3/lib/python3.6/site-packages/ipykernel_launcher.py:105: RuntimeWarning: invalid value encountered in sqrt\n",
      "/home/yihan/anaconda3/lib/python3.6/site-packages/ipykernel_launcher.py:105: RuntimeWarning: invalid value encountered in sqrt\n"
     ]
    }
   ],
   "source": [
    "prefix = '../code/binary-10/'\n",
    "\n",
    "names = ['s','j', 's1', 's2']\n",
    "\n",
    "pairs = [('s','j'), ('s','s1'), ('s1','j'), ('s','s2'),('s2','j'),('s1','s2')]\n",
    "\n",
    "cs_b_10 = get_dataframe(calc_HJ_cross_section, prefix, binary_idx, names, pairs, 40)"
   ]
  },
  {
   "cell_type": "code",
   "execution_count": 44,
   "metadata": {},
   "outputs": [
    {
     "name": "stderr",
     "output_type": "stream",
     "text": [
      "/home/yihan/anaconda3/lib/python3.6/site-packages/ipykernel_launcher.py:105: RuntimeWarning: invalid value encountered in sqrt\n",
      "/home/yihan/anaconda3/lib/python3.6/site-packages/ipykernel_launcher.py:105: RuntimeWarning: invalid value encountered in sqrt\n",
      "/home/yihan/anaconda3/lib/python3.6/site-packages/ipykernel_launcher.py:105: RuntimeWarning: invalid value encountered in sqrt\n",
      "/home/yihan/anaconda3/lib/python3.6/site-packages/ipykernel_launcher.py:105: RuntimeWarning: invalid value encountered in sqrt\n",
      "/home/yihan/anaconda3/lib/python3.6/site-packages/ipykernel_launcher.py:105: RuntimeWarning: invalid value encountered in sqrt\n",
      "/home/yihan/anaconda3/lib/python3.6/site-packages/ipykernel_launcher.py:105: RuntimeWarning: invalid value encountered in sqrt\n",
      "/home/yihan/anaconda3/lib/python3.6/site-packages/ipykernel_launcher.py:105: RuntimeWarning: invalid value encountered in sqrt\n",
      "/home/yihan/anaconda3/lib/python3.6/site-packages/ipykernel_launcher.py:105: RuntimeWarning: invalid value encountered in sqrt\n",
      "/home/yihan/anaconda3/lib/python3.6/site-packages/ipykernel_launcher.py:105: RuntimeWarning: invalid value encountered in sqrt\n",
      "/home/yihan/anaconda3/lib/python3.6/site-packages/ipykernel_launcher.py:105: RuntimeWarning: invalid value encountered in sqrt\n",
      "/home/yihan/anaconda3/lib/python3.6/site-packages/ipykernel_launcher.py:105: RuntimeWarning: invalid value encountered in sqrt\n",
      "/home/yihan/anaconda3/lib/python3.6/site-packages/ipykernel_launcher.py:105: RuntimeWarning: invalid value encountered in sqrt\n"
     ]
    }
   ],
   "source": [
    "prefix = '../code/binary-50/'\n",
    "\n",
    "names = ['s','j', 's1', 's2']\n",
    "\n",
    "pairs = [('s','j'), ('s','s1'), ('s1','j'), ('s','s2'),('s2','j'),('s1','s2')]\n",
    "\n",
    "cs_b_50 = get_dataframe(calc_HJ_cross_section, prefix, binary_idx, names, pairs, 40)"
   ]
  },
  {
   "cell_type": "code",
   "execution_count": 19,
   "metadata": {},
   "outputs": [
    {
     "data": {
      "text/plain": [
       "[<matplotlib.lines.Line2D at 0x1a220d3cc0>]"
      ]
     },
     "execution_count": 19,
     "metadata": {},
     "output_type": "execute_result"
    },
    {
     "data": {
      "image/png": "[encoded data removed]",
      "text/plain": [
       "<Figure size 432x288 with 1 Axes>"
      ]
     },
     "metadata": {
      "image/png": {
       "height": 246,
       "width": 363
      },
      "needs_background": "light"
     },
     "output_type": "display_data"
    }
   ],
   "source": [
    "den=1000\n",
    "a_x = 10**np.linspace(-1, 2, den)\n",
    "m_x = np.linspace(0.08,0.45, 10)\n",
    "m_x=0.1\n",
    "v_y = critical_v(1, 0.000954, m_x, a_x)/KMS\n",
    "\n",
    "plt.plot(np.log10(a_x), v_y)"
   ]
  },
  {
   "cell_type": "code",
   "execution_count": 45,
   "metadata": {},
   "outputs": [
    {
     "data": {
      "image/png": "[encoded data removed]",
      "text/plain": [
       "<Figure size 432x288 with 1 Axes>"
      ]
     },
     "metadata": {
      "image/png": {
       "height": 262,
       "width": 389
      },
      "needs_background": "light"
     },
     "output_type": "display_data"
    }
   ],
   "source": [
    "#sns.relplot( x='$m_{dwarf}[M_\\odot]$',y='$\\sigma[\\pi a_{J}^2]$',data=cross,kind='line')\n",
    "plt.errorbar(x=cs['$m_{dwarf}[M_\\odot]$'], y=cs['$\\sigma[\\pi a_{J}^2]$'],yerr=cs['$\\Delta\\sigma [\\pi a_{J}^2]$'],label='$m = M, single$')\n",
    "\n",
    "plt.errorbar(x=cs_b_1['$m_{dwarf}[M_\\odot]$'], y=cs_b_1['$\\sigma[\\pi a_{J}^2]$'],yerr=cs_b_1['$\\Delta\\sigma [\\pi a_{J}^2]$'],label='$(m_1=0.5M, m_2=0.5M), a = 1au$')\n",
    "\n",
    "plt.errorbar(x=cs_b_10['$m_{dwarf}[M_\\odot]$'], y=cs_b_10['$\\sigma[\\pi a_{J}^2]$'],yerr=cs_b_10['$\\Delta\\sigma [\\pi a_{J}^2]$'],label='$(m_1=0.5M, m_2=0.5M), a = 10au$')\n",
    "\n",
    "plt.errorbar(x=cs_b_50['$m_{dwarf}[M_\\odot]$'], y=cs_b_50['$\\sigma[\\pi a_{J}^2]$'],yerr=cs_b_50['$\\Delta\\sigma [\\pi a_{J}^2]$'],label='$(m_1=0.5M, m_2=0.5M), a = 50au$')\n",
    "\n",
    "plt.legend()\n",
    "\n",
    "plt.xlabel('$M [M_\\odot]$',fontsize=12)\n",
    "\n",
    "plt.ylabel('$\\sigma_{ejection}[\\pi a_{J}^2]$',fontsize=12)\n",
    "\n",
    "#plt.yscale('log')\n",
    "savefig(plt,'maxwellian-v-stayed-HJ')"
   ]
  },
  {
   "cell_type": "code",
   "execution_count": 46,
   "metadata": {},
   "outputs": [
    {
     "data": {
      "text/plain": [
       "0.943661971830986"
      ]
     },
     "execution_count": 46,
     "metadata": {},
     "output_type": "execute_result"
    }
   ],
   "source": [
    "6.7/7.1"
   ]
  },
  {
   "cell_type": "code",
   "execution_count": 47,
   "metadata": {},
   "outputs": [
    {
     "data": {
      "text/plain": [
       "3829.7872340425533"
      ]
     },
     "execution_count": 47,
     "metadata": {},
     "output_type": "execute_result"
    }
   ],
   "source": [
    "3600/0.94"
   ]
  },
  {
   "cell_type": "code",
   "execution_count": null,
   "metadata": {},
   "outputs": [],
   "source": []
  }
 ],
 "metadata": {
  "file_extension": ".py",
  "kernelspec": {
   "display_name": "Python 3",
   "language": "python",
   "name": "python3"
  },
  "language_info": {
   "codemirror_mode": {
    "name": "ipython",
    "version": 3
   },
   "file_extension": ".py",
   "mimetype": "text/x-python",
   "name": "python",
   "nbconvert_exporter": "python",
   "pygments_lexer": "ipython3",
   "version": "3.6.8"
  },
  "mimetype": "text/x-python",
  "name": "python",
  "npconvert_exporter": "python",
  "pygments_lexer": "ipython3",
  "version": 3
 },
 "nbformat": 4,
 "nbformat_minor": 4
}
