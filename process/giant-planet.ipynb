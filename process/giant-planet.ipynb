{
 "cells": [
  {
   "cell_type": "code",
   "execution_count": 1,
   "metadata": {
    "collapsed": true
   },
   "outputs": [],
   "source": [
    "%pylab inline\n",
    "%config InlineBackend.figure_format = 'retina'\n",
    "import pandas as pd\n",
    "import seaborn as sns\n",
    "    \n",
    "sns.set_style(\"darkgrid\", {'xtick.top': True, 'ytick.right': True,'xtick.bottom': True, 'ytick.left': True,'grid.linestyle': '--','image.cmap': 'viridis','xtick.direction': 'in', 'ytick.direction': 'in'})\n",
    "\n",
    "# @working path\n",
    "FIG_PATH     = '../tex/figs/'\n",
    "WEB_FIG_PATH = '../tex/web-figs/'\n",
    "DATA_PATH    = '../code/'\n",
    "\n",
    "\n",
    "# @global settings\n",
    "\n",
    "FIG_DPI      = 800\n",
    "FIG_EXT      = '.pdf'\n",
    "\n",
    "# @global functions\n",
    "def savefig(handler,name, fig_ext = FIG_EXT):\n",
    "    if name != '':\n",
    "        handler.savefig(FIG_PATH + name + fig_ext, dpi = FIG_DPI,bbox_inches = 'tight', pad_inches = 0.1)"
   ]
  },
  {
   "cell_type": "code",
   "execution_count": null,
   "metadata": {},
   "outputs": [],
   "source": []
  }
 ],
 "metadata": {
  "kernelspec": {
   "display_name": "Python 3",
   "language": "python",
   "name": "python3"
  },
  "language_info": {
   "codemirror_mode": {
    "name": "ipython",
    "version": 3
   },
   "file_extension": ".py",
   "mimetype": "text/x-python",
   "name": "python",
   "nbconvert_exporter": "python",
   "pygments_lexer": "ipython3",
   "version": "3.7.0"
  }
 },
 "nbformat": 4,
 "nbformat_minor": 2
}
